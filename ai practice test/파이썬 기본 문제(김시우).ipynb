{
 "cells": [
  {
   "cell_type": "code",
   "execution_count": 2,
   "metadata": {},
   "outputs": [
    {
     "name": "stdout",
     "output_type": "stream",
     "text": [
      "첫번째 숫자를 입력하세요:2\n",
      "두번째 숫자를 입력하세요:3\n",
      "두 수의 합은 5 입니다\n",
      "두 수의 곱은 6 입니다\n"
     ]
    }
   ],
   "source": [
    "num1 = int(input(\"첫번째 숫자를 입력하세요:\"))\n",
    "num2 = int(input(\"두번째 숫자를 입력하세요:\"))\n",
    "\n",
    "sum = num1 + num2\n",
    "mul = num1 * num2\n",
    "\n",
    "print(\"두 수의 합은\", sum, \"입니다\")\n",
    "print(\"두 수의 곱은\", mul, \"입니다\")"
   ]
  },
  {
   "cell_type": "code",
   "execution_count": 14,
   "metadata": {},
   "outputs": [
    {
     "name": "stdout",
     "output_type": "stream",
     "text": [
      "짐의 무게는 얼마입니까?30\n",
      "10 kg만큼 초과하셨습니다. 수수료는  100000 원을 내셔야합니다\n"
     ]
    }
   ],
   "source": [
    "weight = int(input(\"짐의 무게는 얼마입니까?\"))\n",
    "addWeight = weight - 20\n",
    "\n",
    "if weight > 20:\n",
    "    addWeight * 10000\n",
    "    print(addWeight, \"kg만큼 초과하셨습니다. 수수료는 \", addWeight * 10000,\"원을 내셔야합니다\")\n",
    "else:\n",
    "    print(\"수수료가 없습니다\")\n",
    "    \n"
   ]
  },
  {
   "cell_type": "code",
   "execution_count": 17,
   "metadata": {},
   "outputs": [
    {
     "name": "stdout",
     "output_type": "stream",
     "text": [
      "첫번째 숫자를 입력하세요:2\n",
      "두번째 숫자를 입력하세요:1\n",
      "세번째 숫자를 입력하세요:3\n",
      "3 2 1\n"
     ]
    }
   ],
   "source": [
    "num1 = int(input(\"첫번째 숫자를 입력하세요:\"))\n",
    "num2 = int(input(\"두번째 숫자를 입력하세요:\"))\n",
    "num3 = int(input(\"세번째 숫자를 입력하세요:\"))\n",
    "\n",
    "if num1 > num2 > num3:\n",
    "    print(num1, num2, num3)\n",
    "    \n",
    "elif num1 > num3 > num2:\n",
    "    print(num1, num3, num2)\n",
    "    \n",
    "elif num2 > num1 > num3:\n",
    "    print(num2, num1, num3)\n",
    "    \n",
    "elif num2 > num3 > num1:\n",
    "    print(num2, num3, num1)\n",
    "    \n",
    "elif num3 > num1 > num2:\n",
    "    print(num3, num1, num2)\n",
    "    \n",
    "else:\n",
    "    print(num3, num2, num1)"
   ]
  },
  {
   "cell_type": "code",
   "execution_count": 23,
   "metadata": {},
   "outputs": [
    {
     "name": "stdout",
     "output_type": "stream",
     "text": [
      "숫자를 입력하세요:5\n",
      "5 단을 출력합니다.\n",
      "5 X 1 = 5\n",
      "5 X 2 = 10\n",
      "5 X 3 = 15\n",
      "5 X 4 = 20\n",
      "5 X 5 = 25\n",
      "5 X 6 = 30\n",
      "5 X 7 = 35\n",
      "5 X 8 = 40\n",
      "5 X 9 = 45\n"
     ]
    }
   ],
   "source": [
    "gugudan = int(input(\"숫자를 입력하세요:\"))\n",
    "print(gugudan, \"단을 출력합니다.\")\n",
    "num = 1\n",
    "for num in range(1,10):\n",
    "    mul = gugudan * num\n",
    "    print(gugudan ,\"X\", num ,\"=\",mul)"
   ]
  },
  {
   "cell_type": "code",
   "execution_count": 72,
   "metadata": {
    "scrolled": true
   },
   "outputs": [
    {
     "name": "stdout",
     "output_type": "stream",
     "text": [
      "1498500\n"
     ]
    }
   ],
   "source": [
    "sum1 = 0\n",
    "sum2 = 0\n",
    "\n",
    "for x in range(1, 1000):\n",
    "    if x * 3 < 3000:\n",
    "        sum1 = sum1 + x * 3\n",
    "       \n",
    "    elif x * 5 < 5000:\n",
    "        sum2 = sum2 + x * 5\n",
    "        \n",
    "    else:\n",
    "        print(\"\")\n",
    "result = sum1 + sum2\n",
    "print(result)       "
   ]
  },
  {
   "cell_type": "code",
   "execution_count": 68,
   "metadata": {},
   "outputs": [
    {
     "name": "stdout",
     "output_type": "stream",
     "text": [
      "*\n",
      "**\n",
      "***\n",
      "****\n",
      "*****\n"
     ]
    }
   ],
   "source": [
    "star = '*'\n",
    "for x in range(5):\n",
    "    sum = x + 1\n",
    "    print(star * sum)"
   ]
  },
  {
   "cell_type": "code",
   "execution_count": null,
   "metadata": {},
   "outputs": [],
   "source": [
    "\n"
   ]
  },
  {
   "cell_type": "code",
   "execution_count": null,
   "metadata": {},
   "outputs": [],
   "source": []
  }
 ],
 "metadata": {
  "kernelspec": {
   "display_name": "Python 3",
   "language": "python",
   "name": "python3"
  },
  "language_info": {
   "codemirror_mode": {
    "name": "ipython",
    "version": 3
   },
   "file_extension": ".py",
   "mimetype": "text/x-python",
   "name": "python",
   "nbconvert_exporter": "python",
   "pygments_lexer": "ipython3",
   "version": "3.8.3"
  }
 },
 "nbformat": 4,
 "nbformat_minor": 4
}
