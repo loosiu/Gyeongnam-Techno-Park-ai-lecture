{
 "cells": [
  {
   "cell_type": "code",
   "execution_count": 5,
   "metadata": {},
   "outputs": [
    {
     "name": "stdout",
     "output_type": "stream",
     "text": [
      "참석자의 수를 입력하시오: 25\n",
      "치킨의 수: 25\n",
      "맥주의 수: 50\n",
      "케익의 수: 100\n"
     ]
    }
   ],
   "source": [
    "s = 25\n",
    "print(\"참석자의 수를 입력하시오:\",s)\n",
    "s\n",
    "a = s*1\n",
    "b = s*2\n",
    "c = s*4\n",
    "print(\"치킨의 수:\",a)\n",
    "print(\"맥주의 수:\",b)\n",
    "print(\"케익의 수:\",c)"
   ]
  },
  {
   "cell_type": "code",
   "execution_count": 10,
   "metadata": {},
   "outputs": [
    {
     "name": "stdout",
     "output_type": "stream",
     "text": [
      "20 10\n"
     ]
    }
   ],
   "source": [
    "x = 10\n",
    "y = 20\n",
    "z = x\n",
    "x = y\n",
    "y = z\n",
    "print(x, y )"
   ]
  },
  {
   "cell_type": "code",
   "execution_count": 13,
   "metadata": {},
   "outputs": [
    {
     "name": "stdout",
     "output_type": "stream",
     "text": [
      "111442737812.28842\n",
      "111442737812.28842 가 더 많습니다\n"
     ]
    }
   ],
   "source": [
    "price = 24*(1+0.06)**382\n",
    "print(price)\n",
    "if price>60000000000:\n",
    "    print(price,\"가 더 많습니다\")\n",
    "else: \n",
    "    print(price,\"가 더 적습니다\")"
   ]
  },
  {
   "cell_type": "code",
   "execution_count": 4,
   "metadata": {},
   "outputs": [
    {
     "name": "stdout",
     "output_type": "stream",
     "text": [
      "반지름의 길이: 9\n",
      "구의 넓이는 얼마입니까? 3053.627424\n"
     ]
    }
   ],
   "source": [
    "r = int(input(\"반지름의 길이: \"))\n",
    "volume = 4/3*3.141592*r**3\n",
    "print(\"구의 넓이는 얼마입니까?\", volume)"
   ]
  },
  {
   "cell_type": "code",
   "execution_count": 5,
   "metadata": {},
   "outputs": [
    {
     "name": "stdout",
     "output_type": "stream",
     "text": [
      "이름이 무엇입니까?철수\n",
      "철수님 반갑습니다.\n",
      "나이는 몇살입니까?20\n",
      "10년 후면 30살이 되시는군요!\n"
     ]
    }
   ],
   "source": [
    "name = input(\"이름이 무엇입니까?\")\n",
    "print(\"철수님 반갑습니다.\")\n",
    "age = int(input(\"나이는 몇살입니까?\"))\n",
    "print(\"10년 후면 30살이 되시는군요!\")"
   ]
  },
  {
   "cell_type": "code",
   "execution_count": 7,
   "metadata": {},
   "outputs": [
    {
     "name": "stdout",
     "output_type": "stream",
     "text": [
      "물건값을 입력하시오:750\n",
      "1000원 지폐개수:1\n",
      "500원 동전개수:0\n",
      "100원 동전개수:0\n",
      "500원= 0 100원= 2 10원= 5 1원= 0\n"
     ]
    }
   ],
   "source": [
    "price = int(input(\"물건값을 입력하시오:\"))\n",
    "\n",
    "bill1000 = int(input(\"1000원 지폐개수:\"))\n",
    "coin500 = int(input(\"500원 동전개수:\"))\n",
    "coin100 = int(input(\"100원 동전개수:\"))\n",
    "\n",
    "money = (bill1000 * 1000 + coin500 * 500 + coin100 * 100) - price\n",
    "money500 = money//500\n",
    "money100 = money%500//100\n",
    "money10 = money%500%100//10\n",
    "money1 = money%500%100%10//1\n",
    "\n",
    "print(\"500원=\",money500 ,\"100원=\",money100 ,\"10원=\", money10,\"1원=\",money1 )"
   ]
  },
  {
   "cell_type": "code",
   "execution_count": 11,
   "metadata": {},
   "outputs": [
    {
     "name": "stdout",
     "output_type": "stream",
     "text": [
      "첫번째 정수:50\n",
      "두번째 정수:20\n",
      "큰 수는50\n"
     ]
    }
   ],
   "source": [
    "first = input(\"첫번째 정수:\")\n",
    "second = input(\"두번째 정수:\")\n",
    "\n",
    "if first>second:\n",
    "    print(\"큰 수는\" + first )\n",
    "else:\n",
    "    print(\"큰 수는\" + second)"
   ]
  },
  {
   "cell_type": "code",
   "execution_count": 14,
   "metadata": {},
   "outputs": [
    {
     "name": "stdout",
     "output_type": "stream",
     "text": [
      "구입 금액을 입력하시오:90000\n",
      "지불금액은 90000 입니다\n"
     ]
    }
   ],
   "source": [
    "price = int(input(\"구입 금액을 입력하시오:\"))\n",
    "if price >100000:\n",
    "    price = price*0.95\n",
    "    print(\"지불금액은\",price,\"입니다\")\n",
    "else:\n",
    "    print(\"지불금액은\",price,\"입니다\")"
   ]
  },
  {
   "cell_type": "code",
   "execution_count": 17,
   "metadata": {},
   "outputs": [
    {
     "name": "stdout",
     "output_type": "stream",
     "text": [
      "정수를 입력하시오:1\n",
      "입력된 정수는 양수입니다\n"
     ]
    }
   ],
   "source": [
    "number = int(input(\"정수를 입력하시오:\"))\n",
    "if number > 0:\n",
    "    print(\"입력된 정수는 양수입니다\")\n",
    "elif number < 0:\n",
    "    print(\"입력된 정수는 음수입니다\")\n",
    "else:\n",
    "    print(\"입력된 정수는 0입니다\")\n",
    "    "
   ]
  },
  {
   "cell_type": "code",
   "execution_count": 5,
   "metadata": {},
   "outputs": [
    {
     "name": "stdout",
     "output_type": "stream",
     "text": [
      "월을 입력하시오:4\n",
      "월의 날수는 30\n"
     ]
    }
   ],
   "source": [
    "month = int(input(\"월을 입력하시오:\"))\n",
    "if month == 2:\n",
    "    print(\"월의 날수는 28\")\n",
    "elif month % 2 == 0:\n",
    "    print(\"월의 날수는 30\")\n",
    "else:\n",
    "    print(\"월의 날수는 31\")"
   ]
  },
  {
   "cell_type": "code",
   "execution_count": 12,
   "metadata": {},
   "outputs": [
    {
     "name": "stdout",
     "output_type": "stream",
     "text": [
      "연도를 입력하시오:2001\n",
      "2001 년은 윤년이 아닙니다.\n"
     ]
    }
   ],
   "source": [
    "year = int(input(\"연도를 입력하시오:\"))\n",
    "if ((year % 4 == 0 and year % 100 != 0) or year % 400 == 0):\n",
    "    print(year, \"년은 윤년입니다.\")\n",
    "else:\n",
    "    print(year, \"년은 윤년이 아닙니다.\")"
   ]
  },
  {
   "cell_type": "code",
   "execution_count": 17,
   "metadata": {},
   "outputs": [
    {
     "name": "stdout",
     "output_type": "stream",
     "text": [
      "어디까지 계산할까요:100\n",
      "1부터  100 까지의 정수의 합 =  5050\n"
     ]
    }
   ],
   "source": [
    "num = int(input(\"어디까지 계산할까요:\"))\n",
    "sum = 0\n",
    "for num2 in range(num+1):\n",
    "    sum = sum + num2\n",
    "print(\"1부터 \", num, \"까지의 정수의 합 = \",  sum)"
   ]
  },
  {
   "cell_type": "code",
   "execution_count": 9,
   "metadata": {},
   "outputs": [
    {
     "name": "stdout",
     "output_type": "stream",
     "text": [
      "1 !은 1 입니다\n"
     ]
    }
   ],
   "source": [
    "n = 1\n",
    "\n",
    "while n == 10:\n",
    "    n = n * (n-1)\n",
    "print(n, \"!은\", n, \"입니다\")"
   ]
  },
  {
   "cell_type": "code",
   "execution_count": 10,
   "metadata": {},
   "outputs": [
    {
     "name": "stdout",
     "output_type": "stream",
     "text": [
      "1부터 100 사이의 모든 3의 배수의 합은 1683입니다\n"
     ]
    }
   ],
   "source": [
    "n = 1\n",
    "sum = 0\n",
    "\n",
    "while 3 * n <= 100:\n",
    "    sum = sum + 3 * n\n",
    "    n = n + 1\n",
    "print(\"1부터 100 사이의 모든 3의 배수의 합은 %d입니다\" % sum)    "
   ]
  },
  {
   "cell_type": "code",
   "execution_count": 18,
   "metadata": {},
   "outputs": [
    {
     "name": "stdout",
     "output_type": "stream",
     "text": [
      "종료하려면 음수를 입력하시오\n",
      "성적을 입력하시오:50\n",
      "성적을 입력하시오:20\n",
      "성적을 입력하시오:-1\n",
      "성적의 평균은 0입니다.\n"
     ]
    }
   ],
   "source": [
    "score = 0\n",
    "n = 1\n",
    "\n",
    "print(\"종료하려면 음수를 입력하시오\")\n",
    "\n",
    "while score >= 0:\n",
    "    score = int(input(\"성적을 입력하시오:\"))\n",
    "    average = score / n\n",
    "    n = n + 1\n",
    "    \n",
    "print(\"성적의 평균은 %d입니다.\" %average)"
   ]
  },
  {
   "cell_type": "code",
   "execution_count": 21,
   "metadata": {},
   "outputs": [
    {
     "name": "stdout",
     "output_type": "stream",
     "text": [
      "3\n"
     ]
    }
   ],
   "source": [
    "x = 2\n",
    "y = 3\n",
    "def get_max():\n",
    "    if x > y:\n",
    "        return(x)\n",
    "    else:\n",
    "        return(y)\n",
    "print(get_max())"
   ]
  },
  {
   "cell_type": "code",
   "execution_count": 30,
   "metadata": {},
   "outputs": [
    {
     "name": "stdout",
     "output_type": "stream",
     "text": [
      "구의 반지름을 입력하시오:10\n",
      "4188.789333333333\n"
     ]
    }
   ],
   "source": [
    "def sphereVolume():\n",
    "    volume = 4/3 * 3.141592 * r**3\n",
    "    return volume\n",
    "\n",
    "r = int(input(\"구의 반지름을 입력하시오:\"))\n",
    "print(sphereVolume())"
   ]
  },
  {
   "cell_type": "code",
   "execution_count": 12,
   "metadata": {},
   "outputs": [
    {
     "name": "stdout",
     "output_type": "stream",
     "text": [
      "원의 반지름을 입력하시오: 10\n",
      "원의 면적: 314.159265358979\n",
      "원의 둘레: 62.8318530717958\n"
     ]
    }
   ],
   "source": [
    "PI = 3.14159265358979   # 전역 상수\n",
    "\n",
    "\n",
    "radius = float(input('원의 반지름을 입력하시오: '))    \n",
    "print('원의 면적:', circleArea(radius))\n",
    "print('원의 둘레:', circleCircumference(radius))\n",
    "\n",
    "def circleArea(radius):\n",
    "    return PI*radius*radius   \n",
    "\n",
    "def circleCircumference(radius):\n",
    "    return 2*PI*radius         \n",
    "\n",
    "\n"
   ]
  },
  {
   "cell_type": "code",
   "execution_count": 14,
   "metadata": {},
   "outputs": [
    {
     "name": "stdout",
     "output_type": "stream",
     "text": [
      "정수의 합: 30\n",
      "정수의 합: 40\n",
      "정수의 합: 67\n"
     ]
    }
   ],
   "source": [
    "def sum(x,y):\n",
    "    return x+y\n",
    "    \n",
    "print(\"정수의 합:\", sum(10,20))\n",
    "print(\"정수의 합:\", sum(20,20))\n",
    "print(\"정수의 합:\", sum(24,43))"
   ]
  },
  {
   "cell_type": "code",
   "execution_count": 44,
   "metadata": {},
   "outputs": [
    {
     "name": "stdout",
     "output_type": "stream",
     "text": [
      "성적을 입력하시요:80\n",
      "성적을 입력하시요:80\n",
      "성적을 입력하시요:80\n",
      "성적을 입력하시요:100\n",
      "성적을 입력하시요:40\n",
      "성적 평균은 76.0 입니다\n",
      "80점 이상 성적을 받은 학생은 4 명입니다\n"
     ]
    }
   ],
   "source": [
    "score = []\n",
    "total = 0\n",
    "studentNumber = 0\n",
    "\n",
    "for i in range(5):\n",
    "    grade = (int(input(\"성적을 입력하시요:\")))\n",
    "    score.append(grade)\n",
    "    total = total + grade\n",
    "      \n",
    "average = total / len(score)\n",
    "\n",
    "for i in range(len(score)):\n",
    "    if score[i] >= 80:\n",
    "        studentNumber = studentNumber + 1\n",
    "        \n",
    "print(\"성적 평균은\", average, \"입니다\")\n",
    "print(\"80점 이상 성적을 받은 학생은\", studentNumber, \"명입니다\")"
   ]
  },
  {
   "cell_type": "code",
   "execution_count": 46,
   "metadata": {},
   "outputs": [
    {
     "name": "stdout",
     "output_type": "stream",
     "text": [
      "강아지의 이름을 입력하시오(종료에는 엔터키)r미나\n",
      "강아지의 이름을 입력하시오(종료에는 엔터키)초롱이\n",
      "강아지의 이름을 입력하시오(종료에는 엔터키)써니\n",
      "강아지의 이름을 입력하시오(종료에는 엔터키)팅커벨\n",
      "강아지들의 이름: ['r미나', '초롱이', '써니', '팅커벨']\n"
     ]
    }
   ],
   "source": [
    "dog = []\n",
    " \n",
    "for i in range(4):\n",
    "    name = input(\"강아지의 이름을 입력하시오(종료에는 엔터키)\")\n",
    "    dog.append(name)\n",
    "    \n",
    "print(\"강아지들의 이름:\", dog)"
   ]
  },
  {
   "cell_type": "code",
   "execution_count": null,
   "metadata": {},
   "outputs": [
    {
     "name": "stdout",
     "output_type": "stream",
     "text": [
      "\n",
      "1. 친구 리스트 출력\n",
      "2. 친구추가\n",
      "3. 친구삭제\n",
      "4. 이름변경\n",
      "9. 종료 \n",
      "메뉴를 선택하시오:2\n",
      "------------------------------\n",
      "이름을 입력하시오: \n",
      "None김시우\n",
      "\n",
      "1. 친구 리스트 출력\n",
      "2. 친구추가\n",
      "3. 친구삭제\n",
      "4. 이름변경\n",
      "9. 종료 \n",
      "메뉴를 선택하시오:4\n",
      "------------------------------\n",
      "이름을 입력하시오: \n",
      "None김시우\n",
      "이름을 입력하시오: \n",
      "None이소영\n",
      "\n",
      "1. 친구 리스트 출력\n",
      "2. 친구추가\n",
      "3. 친구삭제\n",
      "4. 이름변경\n",
      "9. 종료 \n",
      "메뉴를 선택하시오:1\n",
      "------------------------------\n",
      "['이소영']\n",
      "\n",
      "1. 친구 리스트 출력\n",
      "2. 친구추가\n",
      "3. 친구삭제\n",
      "4. 이름변경\n",
      "9. 종료 \n"
     ]
    }
   ],
   "source": [
    "friendName = []\n",
    "\n",
    "while True:\n",
    "    print(\"\")\n",
    "    print(\"1. 친구 리스트 출력\")\n",
    "    print(\"2. 친구추가\")\n",
    "    print(\"3. 친구삭제\")\n",
    "    print(\"4. 이름변경\")\n",
    "    print(\"9. 종료 \")\n",
    "    menuNumber = int(input(\"메뉴를 선택하시오:\"))    \n",
    "    print(\"-\" * 30)\n",
    "    \n",
    "    if menuNumber == 1:\n",
    "        print(friendName)\n",
    "    \n",
    "    elif menuNumber == 2:\n",
    "        Name = input(print(\"이름을 입력하시오: \"))\n",
    "        friendName.append(Name)\n",
    "        \n",
    "    elif menuNumber == 3:\n",
    "        Name = input(print(\"이름을 입력하시오: \"))\n",
    "        friendName.remove(Name)\n",
    "    \n",
    "    elif menuNumber == 4:\n",
    "        oldName = input(print(\"이름을 입력하시오: \"))\n",
    "        index = friendName.index(oldName)\n",
    "        newName = input(print(\"이름을 입력하시오: \"))\n",
    "        friendName[index] = newName\n",
    "        \n",
    "    elif menuNumber == 9:\n",
    "        print(\"프로그램이 종료되었습니다.\")\n",
    "        break\n"
   ]
  },
  {
   "cell_type": "code",
   "execution_count": 7,
   "metadata": {},
   "outputs": [
    {
     "name": "stdout",
     "output_type": "stream",
     "text": [
      "     PassengerId  Survived  Pclass  \\\n",
      "0              1         0       3   \n",
      "1              2         1       1   \n",
      "2              3         1       3   \n",
      "3              4         1       1   \n",
      "4              5         0       3   \n",
      "..           ...       ...     ...   \n",
      "886          887         0       2   \n",
      "887          888         1       1   \n",
      "888          889         0       3   \n",
      "889          890         1       1   \n",
      "890          891         0       3   \n",
      "\n",
      "                                                  Name     Sex   Age  SibSp  \\\n",
      "0                              Braund, Mr. Owen Harris    male  22.0      1   \n",
      "1    Cumings, Mrs. John Bradley (Florence Briggs Th...  female  38.0      1   \n",
      "2                               Heikkinen, Miss. Laina  female  26.0      0   \n",
      "3         Futrelle, Mrs. Jacques Heath (Lily May Peel)  female  35.0      1   \n",
      "4                             Allen, Mr. William Henry    male  35.0      0   \n",
      "..                                                 ...     ...   ...    ...   \n",
      "886                              Montvila, Rev. Juozas    male  27.0      0   \n",
      "887                       Graham, Miss. Margaret Edith  female  19.0      0   \n",
      "888           Johnston, Miss. Catherine Helen \"Carrie\"  female   NaN      1   \n",
      "889                              Behr, Mr. Karl Howell    male  26.0      0   \n",
      "890                                Dooley, Mr. Patrick    male  32.0      0   \n",
      "\n",
      "     Parch            Ticket     Fare Cabin Embarked  \n",
      "0        0         A/5 21171   7.2500   NaN        S  \n",
      "1        0          PC 17599  71.2833   C85        C  \n",
      "2        0  STON/O2. 3101282   7.9250   NaN        S  \n",
      "3        0            113803  53.1000  C123        S  \n",
      "4        0            373450   8.0500   NaN        S  \n",
      "..     ...               ...      ...   ...      ...  \n",
      "886      0            211536  13.0000   NaN        S  \n",
      "887      0            112053  30.0000   B42        S  \n",
      "888      2        W./C. 6607  23.4500   NaN        S  \n",
      "889      0            111369  30.0000  C148        C  \n",
      "890      0            370376   7.7500   NaN        Q  \n",
      "\n",
      "[891 rows x 12 columns]\n"
     ]
    }
   ],
   "source": [
    "import pandas as pd\n",
    "import numpy as np\n",
    "import os\n",
    "\n",
    "titanic_df = pd.read_csv('titanic_train.csv')\n",
    "print(titanic_df)\n",
    "if not os.path.exists('titanic3_train.csv'):\n",
    "    titanic_df.to_csv('titanic3_train.csv', index=False, mode='w', encoding='utf-8-sig')\n",
    "else:\n",
    "    titanic_df.to_csv('titanic3_train.csv', header=False, index=False, mode='a', encoding='utf-8-sig')\n",
    "    "
   ]
  },
  {
   "cell_type": "code",
   "execution_count": null,
   "metadata": {},
   "outputs": [],
   "source": []
  }
 ],
 "metadata": {
  "kernelspec": {
   "display_name": "Python 3",
   "language": "python",
   "name": "python3"
  },
  "language_info": {
   "codemirror_mode": {
    "name": "ipython",
    "version": 3
   },
   "file_extension": ".py",
   "mimetype": "text/x-python",
   "name": "python",
   "nbconvert_exporter": "python",
   "pygments_lexer": "ipython3",
   "version": "3.8.10"
  }
 },
 "nbformat": 4,
 "nbformat_minor": 4
}
