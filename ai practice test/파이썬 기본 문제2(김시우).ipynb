{
 "cells": [
  {
   "cell_type": "code",
   "execution_count": 20,
   "metadata": {},
   "outputs": [
    {
     "name": "stdout",
     "output_type": "stream",
     "text": [
      "A학급의 평균점수: 79.0\n"
     ]
    }
   ],
   "source": [
    "A = [70, 60, 55, 75, 95, 90, 80, 80, 85, 100]\n",
    "average = 0\n",
    "i = 0\n",
    "sum = 0\n",
    "\n",
    "for i in range(10):\n",
    "    i += 1\n",
    "    sum = A[i-1] + sum \n",
    "    average = sum / len(A)\n",
    "print(\"A학급의 평균점수:\", average)"
   ]
  },
  {
   "cell_type": "code",
   "execution_count": 44,
   "metadata": {},
   "outputs": [
    {
     "name": "stdout",
     "output_type": "stream",
     "text": [
      "(100, 55)\n"
     ]
    }
   ],
   "source": [
    "A = [70, 60, 55, 75, 95, 90, 80, 80, 85, 100]\n",
    "\n",
    "def get_max_min():\n",
    "    return max(A), min(A)\n",
    "    \n",
    "print(get_max_min())\n"
   ]
  },
  {
   "cell_type": "code",
   "execution_count": 46,
   "metadata": {},
   "outputs": [
    {
     "name": "stdout",
     "output_type": "stream",
     "text": [
      "자연수=3\n",
      "자연수는 홀수입니다\n",
      "None\n"
     ]
    }
   ],
   "source": [
    "number = int(input(\"자연수=\"))\n",
    "      \n",
    "def is_odd():\n",
    "    if number % 2 ==0:\n",
    "        print(\"자연수는 짝수입니다.\")\n",
    "    else:\n",
    "        print(\"자연수는 홀수입니다\")\n",
    "print(is_odd())"
   ]
  },
  {
   "cell_type": "code",
   "execution_count": 91,
   "metadata": {},
   "outputs": [
    {
     "data": {
      "text/plain": [
       "[9, 15, 7]"
      ]
     },
     "execution_count": 91,
     "metadata": {},
     "output_type": "execute_result"
    }
   ],
   "source": [
    "x = [ 1, 3, 5, 7, 9, 13, 15 ] \n",
    "y = [ 7, 15, 2, 4, 8, 9 ]\n",
    "\n",
    "list(set(x).intersection(y))"
   ]
  },
  {
   "cell_type": "code",
   "execution_count": 80,
   "metadata": {},
   "outputs": [
    {
     "name": "stdout",
     "output_type": "stream",
     "text": [
      "정수=2\n",
      "\n",
      "[1, 2]\n"
     ]
    }
   ],
   "source": [
    "n = int(input(\"정수=\"))\n",
    "number = []\n",
    "i = 0\n",
    "\n",
    "for i in range(n+1):\n",
    "    i += 1\n",
    "    if n % i == 0:\n",
    "        number.append(i)\n",
    "    else:\n",
    "         print(\"\")   \n",
    "    \n",
    "print(number)"
   ]
  },
  {
   "cell_type": "code",
   "execution_count": 113,
   "metadata": {},
   "outputs": [
    {
     "name": "stdout",
     "output_type": "stream",
     "text": [
      "None\n"
     ]
    }
   ],
   "source": [
    "import random\n",
    "lotto = []\n",
    "randomNumber = random.randint(1, 10)\n",
    "def make_lotto():\n",
    "    for i in range(7):\n",
    "        lotto.append(randomNumber)\n",
    "        if randomNumber in lotto:\n",
    "            lotto.remove(randomNumber)\n",
    "            lotto.append(randomNumber)\n",
    "        else:\n",
    "            print(\"\")\n",
    "        \n",
    "\n",
    "print(make_lotto())"
   ]
  },
  {
   "cell_type": "code",
   "execution_count": null,
   "metadata": {},
   "outputs": [],
   "source": []
  }
 ],
 "metadata": {
  "kernelspec": {
   "display_name": "Python 3",
   "language": "python",
   "name": "python3"
  },
  "language_info": {
   "codemirror_mode": {
    "name": "ipython",
    "version": 3
   },
   "file_extension": ".py",
   "mimetype": "text/x-python",
   "name": "python",
   "nbconvert_exporter": "python",
   "pygments_lexer": "ipython3",
   "version": "3.8.3"
  }
 },
 "nbformat": 4,
 "nbformat_minor": 4
}
